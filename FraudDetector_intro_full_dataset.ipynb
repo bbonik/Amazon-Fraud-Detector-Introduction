{
 "cells": [
  {
   "cell_type": "markdown",
   "metadata": {},
   "source": [
    "# An Introduction to the Amazon Fraud Detector API  \n",
    "\n",
    "\n",
    "## Introduction\n",
    "-------\n",
    "\n",
    "Amazon Fraud Detector is a fully managed service that makes it easy to identify potentially fraudulent online activities, such as online payment fraud and the creation of fake accounts. \n",
    "\n",
    "In this notebook, we'll use the Amazon Fraud Detector API to define an entity and event of interest and use CSV data stored in S3 to train a model. Next, we'll derive some rules and create a \"detector\" by combining our entity, event, model, and rules into a single endpoint. Finally, we'll apply the detector to a sample of our data to identify potentially fraudulent events.\n",
    "\n",
    "After running this notebook you should be able to:\n",
    "- Define an Entity and Event\n",
    "- Create a Detector\n",
    "- Train a Machine Learning (ML) Model\n",
    "- Author Rules to identify potential fraud based on the model's score\n",
    "- Apply the Detector's \"predict\" function, to generate a model score and rule outcomes on data\n",
    "\n",
    "If you would like to know more, please check out [Fraud Detector's Documentation](https://docs.aws.amazon.com/frauddetector/). \n",
    "\n",
    "\n",
    "## Setup\n",
    "------\n",
    "First setup your AWS credentials so that Fraud Detector can store and access training data and supporting detector artifacts in S3.\n",
    "\n",
    "Detailed information on setting-up: https://docs.aws.amazon.com/frauddetector/latest/ug/set-up.html\n",
    "\n",
    "To use Amazon Fraud Detector, you have to set up **permissions** that allow access to the Amazon Fraud Detector console and API operations. You also have to **allow Amazon Fraud Detector to perform tasks on your behalf** and to **access resources that you own**. We recommend creating an AWS Identity and Access Management (IAM) user with access restricted to Amazon Fraud Detector operations and required permissions. You can add other permissions as needed.\n",
    "\n",
    "The following policies provide the required permission to use Amazon Fraud Detector:\n",
    "\n",
    "- **AmazonFraudDetectorFullAccessPolicy**  \n",
    "    Allows you to perform the following actions:  \n",
    "    - Access all Amazon Fraud Detector resources  \n",
    "    - List and describe all model endpoints in Amazon SageMaker  \n",
    "    - List all IAM roles in the account  \n",
    "    - List all Amazon S3 buckets  \n",
    "    - Allow IAM Pass Role to pass a role to Amazon Fraud Detector  \n",
    "\n",
    "- **AmazonS3FullAccess**  \n",
    "    Allows full access to Amazon S3. This is required to upload training files to S3.  \n",
    "\n",
    "**IMPORTANT**: each SageMaker notebook needs to assume an **AWS IAM role**. The role of this notebook should include the above 2 policies, and also include in the **Trusted Relationships** the fraud detector service **frauddetector.amazonaws.com**. The final Trusted Relationships part of the role should look similar to this: \n",
    "\n",
    "```\n",
    "{\n",
    "  \"Version\": \"2012-10-17\",\n",
    "  \"Statement\": [\n",
    "    {\n",
    "      \"Effect\": \"Allow\",\n",
    "      \"Principal\": {\n",
    "        \"Service\": [\n",
    "          \"sagemaker.amazonaws.com\",\n",
    "          \"frauddetector.amazonaws.com\"\n",
    "        ]\n",
    "      },\n",
    "      \"Action\": \"sts:AssumeRole\"\n",
    "    }\n",
    "  ]\n",
    "}\n",
    "```    \n",
    "------"
   ]
  },
  {
   "cell_type": "markdown",
   "metadata": {},
   "source": [
    "# Setup and verify your Python environment\n",
    "Boto3 is the Amazon Web Services (AWS) SDK for Python. It enables Python developers to create, configure, and manage AWS services. You can find more details about Boto3 Fraud Detector [here](https://boto3.amazonaws.com/v1/documentation/api/latest/reference/services/frauddetector.html). "
   ]
  },
  {
   "cell_type": "code",
   "execution_count": null,
   "metadata": {},
   "outputs": [],
   "source": [
    "import boto3  # Python library for interacting with AWS resources\n",
    "\n",
    "fraud_detector_client = boto3.client('frauddetector')  # create a fraud detector client\n"
   ]
  },
  {
   "cell_type": "markdown",
   "metadata": {},
   "source": [
    "We now have to define the role and data location that we will be using."
   ]
  },
  {
   "cell_type": "code",
   "execution_count": null,
   "metadata": {},
   "outputs": [],
   "source": [
    "import sagemaker\n",
    "\n",
    "ARN_ROLE       = sagemaker.get_execution_role()  # get the current role of the SageMaker notebook (or hardcode an actual role ARN)\n",
    "S3_BUCKET      = \"<your_S3_bucket_name>\"\n",
    "S3_FILE        = \"registration_data_20K_full.csv\"\n",
    "S3_FILE_LOC    = \"s3://{0}/{1}\".format(S3_BUCKET,S3_FILE)\n",
    "\n",
    "print('Using Role:', ARN_ROLE)\n",
    "print('Dataset:', S3_FILE_LOC)"
   ]
  },
  {
   "cell_type": "markdown",
   "metadata": {},
   "source": [
    "# Read and understand the data\n",
    "\n",
    "We will be using the sample dataset provided in the Amazon Fraud Detector documentation. The dataset must be in a CSV format and uploaded to an S3 bucket in the same region with the Fraud Detector. For more information on the dataset and how to upload it to S3, please check [here](https://docs.aws.amazon.com/frauddetector/latest/ug/step-1-get-s3-data.html)."
   ]
  },
  {
   "cell_type": "code",
   "execution_count": null,
   "metadata": {},
   "outputs": [],
   "source": [
    "import pandas as pd\n",
    "\n",
    "# connect to S3, get csv file, and convert it to a pandas dataframe\n",
    "s3_client = boto3.resource('s3')\n",
    "s3_object = s3_client.Object(S3_BUCKET, S3_FILE)\n",
    "body = s3_object.get()['Body']\n",
    "df_data = pd.read_csv(body)"
   ]
  },
  {
   "cell_type": "code",
   "execution_count": null,
   "metadata": {},
   "outputs": [],
   "source": [
    "df_data.head(5)"
   ]
  },
  {
   "cell_type": "code",
   "execution_count": null,
   "metadata": {},
   "outputs": [],
   "source": [
    "df_data.info()  # general info about the data"
   ]
  },
  {
   "cell_type": "markdown",
   "metadata": {},
   "source": [
    "Our dataframe has **20K records**, and **9 features**. Of these 9 features, 2 are mandatory for Amazon Fraud Detector: ```EVENT_TIMESTAMP``` and ```EVENT_LABEL```. The rest 7 features can be used as **variables** in Amazon Fraud Detector, in order to train a Machine Learning model. "
   ]
  },
  {
   "cell_type": "code",
   "execution_count": null,
   "metadata": {},
   "outputs": [],
   "source": [
    "import matplotlib.pyplot as plt\n",
    "\n",
    "plt.style.use('seaborn')\n",
    "target_variable = df_data.EVENT_LABEL.value_counts()\n",
    "target_variable.plot.pie(legend=True, autopct='%1.1f%%')\n",
    "plt.show()\n",
    "print(target_variable)"
   ]
  },
  {
   "cell_type": "markdown",
   "metadata": {},
   "source": [
    "As expected, there is a big class imbalance. However, Amazon Fraud Detector can take care of these cases, as long as, fraudulent cases are **more than 400 within a minimum of 10K dataset.**"
   ]
  },
  {
   "cell_type": "markdown",
   "metadata": {},
   "source": [
    "# Configure Amazon Fraud Detector\n",
    "\n",
    "## Declare names\n",
    "\n",
    "In this step we have to declare the name of the variables from the dataset that will be used, as well as, the names of the various components of the Amazon Fraud Detector."
   ]
  },
  {
   "cell_type": "code",
   "execution_count": null,
   "metadata": {},
   "outputs": [],
   "source": [
    "# declare variables; must match EXACTLY with the actual headers in the csv file!\n",
    "VARIABLE_IP_ADDRESS = 'ip_address'\n",
    "VARIABLE_EMAIL_ADDRESS = 'email_address'\n",
    "VARIABLE_PHONE_NUMBER = 'phone_number'\n",
    "VARIABLE_USER_AGENT = 'user_agent'\n",
    "VARIABLE_CUSTOMER_STATE = 'billing_state'\n",
    "VARIABLE_CUSTOMER_POSTAL = 'billing_postal'\n",
    "VARIABLE_CUSTOMER_ADDRESS = 'billing_address'\n",
    "\n",
    "# include the variables that will be used in your model\n",
    "list_event_variables = [\n",
    "    VARIABLE_IP_ADDRESS,\n",
    "    VARIABLE_EMAIL_ADDRESS,\n",
    "    VARIABLE_PHONE_NUMBER,\n",
    "    VARIABLE_USER_AGENT,\n",
    "    VARIABLE_CUSTOMER_STATE,\n",
    "    VARIABLE_CUSTOMER_POSTAL,\n",
    "    VARIABLE_CUSTOMER_ADDRESS\n",
    "]\n",
    "\n",
    "# declare fraudulent and legitimate labels; must match EXACTLY with the actual EVENT_LABEL value in the csv file!\n",
    "LABEL_FRAUD = 'fraud'\n",
    "LABEL_LEGIT = 'legit'\n",
    "\n",
    "# declare entity name: Entity names must be a-z, all lowercase characters, no spaces (underscores are allowed).\n",
    "ENTITY_TYPE_NAME = '<your_entity_name>'  # NEED TO BE SAME AS IN THE CONSOLE IF YOU WANT TO USE EXISTING MODELS\n",
    "\n",
    "# declare event name: Event type name must be a-z, all lowercase characters, no spaces (underscores are allowed).\n",
    "EVENT_TYPE_NAME = '<your_event_name>'  # NEED TO BE SAME AS IN THE CONSOLE IF YOU WANT TO USE EXISTING MODELS\n",
    "\n",
    "# declare model name: Model names must be a-z, all lowercase characters, no spaces (underscores are allowed).\n",
    "MODEL_ID = '<your_model_name>'  # NEED TO BE SAME AS IN THE CONSOLE IF YOU WANT TO USE EXISTING MODELS\n",
    "\n",
    "# declare detector name: Detector names must be a-z, all lowercase characters, no spaces (underscores are allowed).\n",
    "DETECTOR_ID = '<your_detector_name>'\n",
    "\n",
    "# declare outcome names: Outcome names must be a-z, all lowercase characters, no spaces (underscores are allowed).\n",
    "OUTCOME_BLOCK = '<your_outcome_name1>'\n",
    "OUTCOME_REVIEW = '<your_outcome_name2>'\n",
    "OUTCOME_APPROVE = '<your_outcome_name3>'\n",
    "\n",
    "# declare rule names: Rule names must be a-z, all lowercase characters, no spaces (underscores are allowed).\n",
    "RULE_ID_HIGH_RISK = '<your_rule_name1>'\n",
    "RULE_ID_MID_RISK = '<your_rule_name2>'\n",
    "RULE_ID_LOW_RISK = '<your_rule_name3>'"
   ]
  },
  {
   "cell_type": "markdown",
   "metadata": {},
   "source": [
    "## Create Variables\n",
    "Variables are the *features* that we will use in our ML models. We have to choose which of the dataframe columns will be used for that, and we have to **map** them to the specific **variable types** that Amazon Fraud Detector offers. More information about the list of available variable types can be found [here](https://docs.aws.amazon.com/frauddetector/latest/ug/create-a-variable.html#variable-types).\n",
    "\n",
    "**Important notice**: You cannot create a variable that already exists. If you try to create an already existing variable, you will get a ```ValidationException``` error, highlighting that \"Provided variable name already exists in the system\". As such, **if you execute the following cell more than one time, you will get this error**. "
   ]
  },
  {
   "cell_type": "code",
   "execution_count": null,
   "metadata": {},
   "outputs": [],
   "source": [
    "# collect existing variables\n",
    "response = fraud_detector_client.get_variables()\n",
    "existing_variable_names = [variable['name'] for variable in response['variables']]\n",
    "\n",
    "# Create variable email_address\n",
    "if VARIABLE_EMAIL_ADDRESS not in existing_variable_names:\n",
    "    fraud_detector_client.create_variable(\n",
    "        name = VARIABLE_EMAIL_ADDRESS,\n",
    "        variableType = 'EMAIL_ADDRESS',\n",
    "        dataSource = 'EVENT',\n",
    "        dataType = 'STRING',\n",
    "        defaultValue = '<unknown>'\n",
    "    )\n",
    "    print('Created variable:', VARIABLE_EMAIL_ADDRESS)\n",
    "else: print('Variable', VARIABLE_EMAIL_ADDRESS, 'already exists...')\n",
    "\n",
    "# Create variable ip_address\n",
    "if VARIABLE_IP_ADDRESS not in existing_variable_names:\n",
    "    fraud_detector_client.create_variable(\n",
    "        name = VARIABLE_IP_ADDRESS,\n",
    "        variableType = 'IP_ADDRESS',\n",
    "        dataSource = 'EVENT',\n",
    "        dataType = 'STRING',\n",
    "        defaultValue = '<unknown>'\n",
    "    )\n",
    "    print('Created variable:', VARIABLE_IP_ADDRESS)\n",
    "else: print('Variable', VARIABLE_IP_ADDRESS, 'already exists...')\n",
    "\n",
    "\n",
    "# Create variable billing_state\n",
    "if VARIABLE_CUSTOMER_STATE not in existing_variable_names:\n",
    "    fraud_detector_client.create_variable(\n",
    "        name = VARIABLE_CUSTOMER_STATE,\n",
    "        variableType = 'BILLING_STATE',\n",
    "        dataSource = 'EVENT',\n",
    "        dataType = 'STRING',\n",
    "        defaultValue = '<unknown>'\n",
    "    )\n",
    "    print('Created variable:', VARIABLE_CUSTOMER_STATE)\n",
    "else: print('Variable', VARIABLE_CUSTOMER_STATE, 'already exists...')\n",
    "\n",
    "# Create variable user_agent\n",
    "if VARIABLE_USER_AGENT not in existing_variable_names:\n",
    "    fraud_detector_client.create_variable(\n",
    "        name = VARIABLE_USER_AGENT,\n",
    "        variableType = 'USERAGENT',\n",
    "        dataSource = 'EVENT',\n",
    "        dataType = 'STRING',\n",
    "        defaultValue = '<unknown>'\n",
    "    )\n",
    "    print('Created variable:', VARIABLE_USER_AGENT)\n",
    "else: print('Variable', VARIABLE_USER_AGENT, 'already exists...')\n",
    "\n",
    "# Create variable billing_postal\n",
    "if VARIABLE_CUSTOMER_POSTAL not in existing_variable_names:\n",
    "    fraud_detector_client.create_variable(\n",
    "        name = VARIABLE_CUSTOMER_POSTAL,\n",
    "        variableType = 'BILLING_ZIP',\n",
    "        dataSource = 'EVENT',\n",
    "        dataType = 'STRING',\n",
    "        defaultValue = '<unknown>'\n",
    "    )\n",
    "    print('Created variable:', VARIABLE_CUSTOMER_POSTAL)\n",
    "else: print('Variable', VARIABLE_CUSTOMER_POSTAL, 'already exists...')\n",
    "\n",
    "# Create variable phone_number\n",
    "if VARIABLE_PHONE_NUMBER not in existing_variable_names:\n",
    "    fraud_detector_client.create_variable(\n",
    "        name = VARIABLE_PHONE_NUMBER,\n",
    "        variableType = 'PHONE_NUMBER',\n",
    "        dataSource = 'EVENT',\n",
    "        dataType = 'STRING',\n",
    "        defaultValue = '<unknown>'\n",
    "    )\n",
    "    print('Created variable:', VARIABLE_PHONE_NUMBER)\n",
    "else: print('Variable', VARIABLE_PHONE_NUMBER, 'already exists...')\n",
    "\n",
    "# Create variable billing_address\n",
    "if VARIABLE_CUSTOMER_ADDRESS not in existing_variable_names:\n",
    "    fraud_detector_client.create_variable(\n",
    "        name = VARIABLE_CUSTOMER_ADDRESS,\n",
    "        variableType = 'BILLING_ADDRESS_L1',\n",
    "        dataSource = 'EVENT',\n",
    "        dataType = 'STRING',\n",
    "        defaultValue = '<unknown>'\n",
    "    )\n",
    "    print('Created variable:', VARIABLE_CUSTOMER_ADDRESS)\n",
    "else: print('Variable', VARIABLE_CUSTOMER_ADDRESS, 'already exists...')\n",
    "    "
   ]
  },
  {
   "cell_type": "markdown",
   "metadata": {},
   "source": [
    "## Create Labels\n",
    "Labels are the **ground truth values that describe whether an event is fraudulent or legitimate**. This has to be **exactly** the same word that is used in our CSV file. For example, a fraudulent case could be highlighted as 'fraud', 'Fraud', '1', 'F' etc., while a legitimate even could be indicated as 'legit', 'Legit', '0', 'L' etc. We have to use exactly the same notation with our CSV file, when creating our labels."
   ]
  },
  {
   "cell_type": "code",
   "execution_count": null,
   "metadata": {},
   "outputs": [],
   "source": [
    "# collect existing labels\n",
    "response = fraud_detector_client.get_labels()\n",
    "existing_label_names = [label['name'] for label in response['labels']]\n",
    "\n",
    "# create label for fraud\n",
    "if LABEL_FRAUD not in existing_label_names:\n",
    "    fraud_detector_client.put_label(\n",
    "        name = LABEL_FRAUD,\n",
    "        description = 'label for fraudulent events'\n",
    "    )\n",
    "    print('Created label:', LABEL_FRAUD)\n",
    "else: print('Label', LABEL_FRAUD, 'already exists...')\n",
    "\n",
    "# create label for legit\n",
    "if LABEL_LEGIT not in existing_label_names:\n",
    "    fraud_detector_client.put_label(\n",
    "        name = LABEL_LEGIT,\n",
    "        description = 'label for legitimate events'\n",
    "    )\n",
    "    print('Created label:', LABEL_LEGIT)\n",
    "else: print('Label', LABEL_LEGIT, 'already exists...')"
   ]
  },
  {
   "cell_type": "markdown",
   "metadata": {},
   "source": [
    "## Create Entity type\n",
    "Entity type describes **who** will perform an actibity (event), for which, we would like to analyze for fraudulent activity. In many cases this is a customer."
   ]
  },
  {
   "cell_type": "code",
   "execution_count": null,
   "metadata": {},
   "outputs": [],
   "source": [
    "# collect existing entity types\n",
    "response = fraud_detector_client.get_entity_types()\n",
    "existing_entity_type_names = [entity_type['name'] for entity_type in response['entityTypes']]\n",
    "\n",
    "if ENTITY_TYPE_NAME not in existing_entity_type_names:\n",
    "    fraud_detector_client.put_entity_type(\n",
    "        name = ENTITY_TYPE_NAME,\n",
    "        description = 'Sample account entity type'\n",
    "    )\n",
    "    print('Created entity:', ENTITY_TYPE_NAME)\n",
    "else: print('Entity', ENTITY_TYPE_NAME, 'already exists...')\n"
   ]
  },
  {
   "cell_type": "markdown",
   "metadata": {},
   "source": [
    "## Create Event type\n",
    "Event is the **activity** that the Entity will perform, which will be analyzed by Amazon Fraud Detector. Once defined, you can build Models and Detectors that evaluate the risk for specific event types. For example, an Event could be a \"sample registration\" task that a customer would perform. Other Event types could be an online transaction, the submission of a comment/review etc. When we define an Event type, we need to also include the Variables and Labels that we created in our previous step."
   ]
  },
  {
   "cell_type": "code",
   "execution_count": null,
   "metadata": {},
   "outputs": [],
   "source": [
    "# collect existing event types\n",
    "response = fraud_detector_client.get_event_types()\n",
    "existing_event_type_names = [event_type['name'] for event_type in response['eventTypes']]\n",
    "\n",
    "if EVENT_TYPE_NAME not in existing_event_type_names:\n",
    "    fraud_detector_client.put_event_type (\n",
    "        name = EVENT_TYPE_NAME,\n",
    "        description='Sample event type',\n",
    "        eventVariables = list_event_variables,\n",
    "        labels = [\n",
    "            LABEL_LEGIT, \n",
    "            LABEL_FRAUD\n",
    "        ],\n",
    "        entityTypes = [ \n",
    "            ENTITY_TYPE_NAME \n",
    "        ]\n",
    "    )\n",
    "    print('Created event:', EVENT_TYPE_NAME)\n",
    "else: print('Event', EVENT_TYPE_NAME, 'already exists...')"
   ]
  },
  {
   "cell_type": "markdown",
   "metadata": {},
   "source": [
    "## Create and train a ML model\n",
    "\n",
    "Amazon Fraud Detector models learn to detect fraud for a specific event type. In Amazon Fraud Detector, you **first create a Model**, which acts as a **container** for your **Model versions**. Each time you train a model, a new version is created. "
   ]
  },
  {
   "cell_type": "markdown",
   "metadata": {},
   "source": [
    "A model version is created by calling the ```CreateModel``` and ```CreateModelVersion``` operations. \n",
    "\n",
    "- ```CreateModel``` initiates the model, which acts as a container for your model versions. \n",
    "\n",
    "- ```CreateModelVersion``` starts the training process, which results in a specific version of the model. A new version of the solution is created each time you call ```CreateModelVersion```. \n"
   ]
  },
  {
   "cell_type": "code",
   "execution_count": null,
   "metadata": {},
   "outputs": [],
   "source": [
    "# collect existing models\n",
    "response = fraud_detector_client.get_models()\n",
    "existing_model_ids = [ model['modelId'] for model in response['models'] ]\n",
    "\n",
    "# create model container\n",
    "if MODEL_ID not in existing_model_ids:\n",
    "    fraud_detector_client.create_model (\n",
    "        modelId = MODEL_ID,\n",
    "        eventTypeName = EVENT_TYPE_NAME,\n",
    "        modelType = 'ONLINE_FRAUD_INSIGHTS'\n",
    "    )\n",
    "    print('Created model:', MODEL_ID)\n",
    "else: print('Model', MODEL_ID, 'already exists...')"
   ]
  },
  {
   "cell_type": "markdown",
   "metadata": {},
   "source": [
    "If the ML model already exists and we initiate a new training, it will results in a new version of the model."
   ]
  },
  {
   "cell_type": "code",
   "execution_count": null,
   "metadata": {},
   "outputs": [],
   "source": [
    "# start training a new model version\n",
    "fraud_detector_client.create_model_version (\n",
    "    modelId = MODEL_ID,\n",
    "    modelType = 'ONLINE_FRAUD_INSIGHTS',\n",
    "    trainingDataSource = 'EXTERNAL_EVENTS',\n",
    "    trainingDataSchema = {\n",
    "        'modelVariables' : list_event_variables,\n",
    "        'labelSchema' : {\n",
    "            'labelMapper' : {\n",
    "                'FRAUD' : [ LABEL_FRAUD ],\n",
    "                'LEGIT' : [ LABEL_LEGIT ]\n",
    "            }\n",
    "        }\n",
    "    }, \n",
    "    externalEventsDetail = {\n",
    "        'dataLocation' : S3_FILE_LOC,\n",
    "        'dataAccessRoleArn' : ARN_ROLE\n",
    "    }\n",
    ")"
   ]
  },
  {
   "cell_type": "markdown",
   "metadata": {},
   "source": [
    "Training can take saveral hours, depending on your dataset. In order to know how training progresses, we add a small piece of code that **polls the training process** in regular intervals and displays the progress. "
   ]
  },
  {
   "cell_type": "code",
   "execution_count": null,
   "metadata": {},
   "outputs": [],
   "source": [
    "import time\n",
    "\n",
    "%%time\n",
    "\n",
    "training_state = None\n",
    "while training_state != \"TRAINING_COMPLETE\":\n",
    "    response = fraud_detector_client.get_model_version(\n",
    "        modelId = MODEL_ID, \n",
    "        modelType = \"ONLINE_FRAUD_INSIGHTS\", \n",
    "        modelVersionNumber = '1.0'\n",
    "    )\n",
    "    training_state = response['status']\n",
    "    print(\"-\", end=\"\")\n",
    "    time.sleep(60)  # poll once every 1 min\n",
    "\n",
    "print(\"\\nTraining state:\", training_state)"
   ]
  },
  {
   "cell_type": "markdown",
   "metadata": {},
   "source": [
    "Amazon Fraud Detector keeps aside 10% of the data for validation/testing purposes. You can check the performance of the model by requesting the ROC AUC metric."
   ]
  },
  {
   "cell_type": "code",
   "execution_count": null,
   "metadata": {},
   "outputs": [],
   "source": [
    "# get model report for the trained model\n",
    "\n",
    "model_report = fraud_detector_client.describe_model_versions(\n",
    "    modelId = MODEL_ID,\n",
    "    modelVersionNumber = '1.0',  # or any other version needed\n",
    "    modelType = 'ONLINE_FRAUD_INSIGHTS'\n",
    ")\n",
    "\n",
    "print('ROC AUC: ',model_report['modelVersionDetails'][0]['trainingResult']['trainingMetrics']['auc'])"
   ]
  },
  {
   "cell_type": "markdown",
   "metadata": {},
   "source": [
    "After reviewing the model performance, we need to **activate the Model** to make it available for use by Detectors, in real-time fraud predictions. Amazon Fraud Detector will deploy the model in **multiple availability zones** for redundancy with **auto-scaling turned on** to ensure the model scales with the number of fraud predictions you are making. To activate the model, call the ```UpdateModelVersionStatus``` API and update the status to ```ACTIVE```."
   ]
  },
  {
   "cell_type": "code",
   "execution_count": null,
   "metadata": {},
   "outputs": [],
   "source": [
    "# select model status\n",
    "MODEL_STATUS = 'ACTIVE' \n",
    "# MODEL_STATUS = 'INACTIVE'\n",
    "\n",
    "response = fraud_detector_client.update_model_version_status (\n",
    "modelId = MODEL_ID,\n",
    "modelType = 'ONLINE_FRAUD_INSIGHTS',\n",
    "modelVersionNumber = '1.00',\n",
    "status = MODEL_STATUS\n",
    ")\n"
   ]
  },
  {
   "cell_type": "markdown",
   "metadata": {},
   "source": [
    "Deployment may take ~10min, so, we also poll regularly, to know how the process progresses."
   ]
  },
  {
   "cell_type": "code",
   "execution_count": null,
   "metadata": {},
   "outputs": [],
   "source": [
    "%%time\n",
    "\n",
    "deployment_state = None\n",
    "while deployment_state != MODEL_STATUS:\n",
    "    response = fraud_detector_client.get_model_version(\n",
    "        modelId = MODEL_ID, \n",
    "        modelType = \"ONLINE_FRAUD_INSIGHTS\", \n",
    "        modelVersionNumber = '1.0'\n",
    "    )\n",
    "    deployment_state = response['status']\n",
    "    print(\"-\", end=\"\")\n",
    "    time.sleep(60)  # poll once every 1 min\n",
    "\n",
    "print(\"\\nDeployment state:\", deployment_state)\n"
   ]
  },
  {
   "cell_type": "markdown",
   "metadata": {},
   "source": [
    "## Create a Detector\n",
    "\n",
    "A detector contains the detection logic, such as the models and rules, for a particular event that you want to evaluate for fraud. During a fraud prediction, you will specify the detector that you want to use to evaluate your event. To create a detector, complete the following steps. "
   ]
  },
  {
   "cell_type": "markdown",
   "metadata": {},
   "source": [
    "A detector acts as a container for your detector versions."
   ]
  },
  {
   "cell_type": "code",
   "execution_count": null,
   "metadata": {},
   "outputs": [],
   "source": [
    "# Collect existing detector ids\n",
    "response = fraud_detector_client.get_detectors()\n",
    "existing_detector_ids = [detector['detectorId'] for detector in response['detectors']]\n",
    "\n",
    "# Detector is a container for detector versions.\n",
    "if DETECTOR_ID not in existing_detector_ids:\n",
    "    fraud_detector_client.put_detector (\n",
    "        detectorId = DETECTOR_ID,\n",
    "        eventTypeName = EVENT_TYPE_NAME\n",
    "    )\n",
    "    print('Created detector:', DETECTOR_ID)\n",
    "else: print('Detector', DETECTOR_ID, 'already exists...')"
   ]
  },
  {
   "cell_type": "markdown",
   "metadata": {},
   "source": [
    "## Create outcomes\n",
    "An outcome is the result of a fraud prediction. Create an outcome for each possible fraud prediction result. For example, you may want outcomes to represent risk levels (high_risk, medium_risk, and low_risk) or actions (approve, review). Once created, you can add one or more outcomes to a rule."
   ]
  },
  {
   "cell_type": "code",
   "execution_count": null,
   "metadata": {},
   "outputs": [],
   "source": [
    "# Collect existing outcomes\n",
    "response = fraud_detector_client.get_outcomes()\n",
    "existing_outcome_names = [ outcome['name'] for outcome in response['outcomes'] ]\n",
    "\n",
    "\n",
    "if OUTCOME_BLOCK not in existing_outcome_names:\n",
    "    fraud_detector_client.put_outcome(\n",
    "        name = OUTCOME_BLOCK,\n",
    "        description = 'this outcome blocks the event'\n",
    "    )\n",
    "    print('Created outcome:', OUTCOME_BLOCK)\n",
    "else: print('Outcome', OUTCOME_BLOCK, 'already exists...')\n",
    "\n",
    "if OUTCOME_REVIEW not in existing_outcome_names:\n",
    "    fraud_detector_client.put_outcome(\n",
    "        name = OUTCOME_REVIEW,\n",
    "        description = 'this outcome sidelines event for review'\n",
    "    )\n",
    "    print('Created outcome:', OUTCOME_REVIEW)\n",
    "else: print('Outcome', OUTCOME_REVIEW, 'already exists...')\n",
    "\n",
    "\n",
    "if OUTCOME_APPROVE not in existing_outcome_names:\n",
    "    fraud_detector_client.put_outcome(\n",
    "        name = OUTCOME_APPROVE,\n",
    "        description = 'this outcome approves the event'\n",
    "    )\n",
    "    print('Created outcome:', OUTCOME_APPROVE)\n",
    "else: print('Outcome', OUTCOME_APPROVE, 'already exists...')\n",
    "    "
   ]
  },
  {
   "cell_type": "markdown",
   "metadata": {},
   "source": [
    "## Create rules \n",
    "A rule is a condition that tells Amazon Fraud Detector how to interpret variable values during a fraud prediction. A rule consists of one or more variables, a logic expression, and one or more outcomes. A **detector must have at least one associated rule**. Rules in a detector are evaluated as part of a fraud prediction. \n",
    " \n",
    " Each rule must contain a single expression that captures your business logic. All expressions must evaluate to a Boolean value (true or false) and be less than 4,000 characters in length. If-else type conditions are not supported. All variables used in the expression must be predefined in the evaluated event type. "
   ]
  },
  {
   "cell_type": "code",
   "execution_count": null,
   "metadata": {},
   "outputs": [],
   "source": [
    "# in order to use the model score with rules, we need to construct a predefined variable name\n",
    "\n",
    "MODEL_INSIGHTS = MODEL_ID + '_insightscore'  # to be used when getting real-time predictions\n",
    "MODEL_SCORE = '$' + MODEL_INSIGHTS  # to be used when defining rules\n"
   ]
  },
  {
   "cell_type": "code",
   "execution_count": null,
   "metadata": {},
   "outputs": [],
   "source": [
    "# Collect existing rules\n",
    "response = fraud_detector_client.get_rules(detectorId=DETECTOR_ID)\n",
    "existing_rule_names = [ rule['ruleId'] for rule in response['ruleDetails'] ]\n",
    "\n",
    "\n",
    "# for high risk cases\n",
    "if RULE_ID_HIGH_RISK not in existing_rule_names:\n",
    "    fraud_detector_client.create_rule(\n",
    "        ruleId = RULE_ID_HIGH_RISK,\n",
    "        detectorId = DETECTOR_ID,\n",
    "        expression = MODEL_SCORE + ' > 800',\n",
    "        language = 'DETECTORPL',\n",
    "        outcomes = [OUTCOME_BLOCK]\n",
    "    )\n",
    "    print('Created rule:', RULE_ID_HIGH_RISK)\n",
    "else: print('Rule', RULE_ID_HIGH_RISK, 'already exists...')\n",
    "\n",
    "# for medium risk cases\n",
    "if RULE_ID_MID_RISK not in existing_rule_names:\n",
    "    fraud_detector_client.create_rule(\n",
    "        ruleId = RULE_ID_MID_RISK,\n",
    "        detectorId = DETECTOR_ID,\n",
    "        expression = MODEL_SCORE + ' <= 800 and ' + MODEL_SCORE + ' > 500',\n",
    "        language = 'DETECTORPL',\n",
    "        outcomes = [OUTCOME_REVIEW]\n",
    "    )\n",
    "    print('Created rule:', RULE_ID_MID_RISK)\n",
    "else: print('Rule', RULE_ID_MID_RISK, 'already exists...')\n",
    "\n",
    "# for low risk cases\n",
    "if RULE_ID_LOW_RISK not in existing_rule_names:\n",
    "    fraud_detector_client.create_rule(\n",
    "        ruleId = RULE_ID_LOW_RISK,\n",
    "        detectorId = DETECTOR_ID,\n",
    "        expression = MODEL_SCORE + ' <= 500',\n",
    "        language = 'DETECTORPL',\n",
    "        outcomes = [OUTCOME_APPROVE]\n",
    "    )\n",
    "    print('Created rule:', RULE_ID_LOW_RISK)\n",
    "else: print('Rule', RULE_ID_LOW_RISK, 'already exists...')"
   ]
  },
  {
   "cell_type": "markdown",
   "metadata": {},
   "source": [
    "You can **update a rule** by calling the ```UpdateRuleVersion``` API. The following example updates the model score thresholds for the rules high_fraud_risk and medium_fraud_risk **from 900 to 950**. "
   ]
  },
  {
   "cell_type": "code",
   "execution_count": null,
   "metadata": {},
   "outputs": [],
   "source": [
    "fraud_detector_client.update_rule_version(\n",
    "    rule = {\n",
    "        'detectorId' : DETECTOR_ID,\n",
    "        'ruleId' : RULE_ID_HIGH_RISK,\n",
    "        'ruleVersion' : '1'\n",
    "    },\n",
    "    expression = MODEL_SCORE + ' > 900',\n",
    "    language = 'DETECTORPL',\n",
    "    outcomes = [OUTCOME_BLOCK]\n",
    ")\n",
    "\n",
    "fraud_detector_client.update_rule_version(\n",
    "    rule = {\n",
    "        'detectorId' : DETECTOR_ID,\n",
    "        'ruleId' : RULE_ID_MID_RISK,\n",
    "        'ruleVersion' : '1'\n",
    "    },\n",
    "    expression = MODEL_SCORE + ' <= 900 and ' + MODEL_SCORE + ' > 500',\n",
    "    language = 'DETECTORPL',\n",
    "    outcomes = [OUTCOME_REVIEW]\n",
    ")"
   ]
  },
  {
   "cell_type": "markdown",
   "metadata": {},
   "source": [
    "## Create a detector version \n",
    "A detector version defines the specific models and rules that will be run as part of a fraud prediction. Each detector version has a status of ```DRAFT```, ```ACTIVE```, or ```INACTIVE```. Only one detector version can be in ```ACTIVE``` status at a time. During the ```GetEventPrediction``` request, Amazon Fraud Detector will use the ```ACTIVE``` detector if no ```DetectorVersion``` is specified. "
   ]
  },
  {
   "cell_type": "code",
   "execution_count": null,
   "metadata": {},
   "outputs": [],
   "source": [
    "fraud_detector_client.create_detector_version(\n",
    "    detectorId = DETECTOR_ID,\n",
    "    rules = [{\n",
    "        'detectorId' : DETECTOR_ID,\n",
    "        'ruleId' : RULE_ID_HIGH_RISK,\n",
    "        'ruleVersion' : '1'\n",
    "    },\n",
    "    {\n",
    "        'detectorId' : DETECTOR_ID,\n",
    "        'ruleId' : RULE_ID_MID_RISK,\n",
    "        'ruleVersion' : '1'\n",
    "    },\n",
    "    {\n",
    "        'detectorId' : DETECTOR_ID,\n",
    "        'ruleId' : RULE_ID_LOW_RISK,\n",
    "        'ruleVersion' : '1'\n",
    "    }\n",
    "    ],\n",
    "    modelVersions = [{\n",
    "        'modelId' : MODEL_ID,\n",
    "        'modelType': 'ONLINE_FRAUD_INSIGHTS',\n",
    "        'modelVersionNumber' : '1.00'\n",
    "    }],\n",
    "    ruleExecutionMode = 'FIRST_MATCHED'\n",
    "    # ruleExecutionMode = 'ALL_MATCHED'\n",
    ")\n",
    "\n",
    "# activate the newly created detector\n",
    "fraud_detector_client.update_detector_version_status(\n",
    "    detectorId = DETECTOR_ID,\n",
    "    detectorVersionId = '1',\n",
    "    status = 'ACTIVE'\n",
    ")\n"
   ]
  },
  {
   "cell_type": "markdown",
   "metadata": {},
   "source": [
    "## Get fraud predictions"
   ]
  },
  {
   "cell_type": "markdown",
   "metadata": {},
   "source": [
    "Getting one individual prediction (legit case)."
   ]
  },
  {
   "cell_type": "code",
   "execution_count": null,
   "metadata": {},
   "outputs": [],
   "source": [
    "response = fraud_detector_client.get_event_prediction(\n",
    "    detectorId = DETECTOR_ID,\n",
    "    eventId = '802454d3-f7d8-482d-97e8-c4b6db9a0428',\n",
    "    eventTypeName = EVENT_TYPE_NAME,\n",
    "    eventTimestamp = '2020-07-13T23:18:21Z',\n",
    "    entities = [{'entityType':ENTITY_TYPE_NAME, 'entityId':'12345'}],\n",
    "    eventVariables = {\n",
    "        'email_address' : 'johndoe@exampledomain.com',\n",
    "        'ip_address' : '1.2.3.4',\n",
    "        'billing_state': 'TX',\n",
    "        'user_agent': 'Mozilla/5.0 (iPad; CPU iPad OS 10_3_3 like Mac OS X) AppleWebKit/532.2 (KHTML, like Gecko) CriOS/34.0.827.0 Mobile/13K063 Safari/532.2',\n",
    "        'billing_postal': '34491',\n",
    "        'phone_number': '(555)333 - 9246',\n",
    "        'billing_address': '12351 Amanda Knolls Fake St.'  \n",
    "    }\n",
    ")\n",
    "\n",
    "print('ML fraud prediction [0,1000]:', response['modelScores'][0]['scores'][MODEL_INSIGHTS])\n",
    "print('Activated rule:', response['ruleResults'][0]['ruleId'])\n",
    "print('Outcome:', response['ruleResults'][0]['outcomes'][0])"
   ]
  },
  {
   "cell_type": "markdown",
   "metadata": {},
   "source": [
    "Getting one individual prediction (fraudulent case)."
   ]
  },
  {
   "cell_type": "code",
   "execution_count": null,
   "metadata": {},
   "outputs": [],
   "source": [
    "response = fraud_detector_client.get_event_prediction(\n",
    "    detectorId = DETECTOR_ID,\n",
    "    eventId = '802454d3-f7d8-482d-97e8-c4b6db9a0428',\n",
    "    eventTypeName = EVENT_TYPE_NAME,\n",
    "    eventTimestamp = '2020-07-13T23:18:21Z',\n",
    "    entities = [{'entityType':ENTITY_TYPE_NAME, 'entityId':'12345'}],\n",
    "    eventVariables = {\n",
    "        'email_address' : 'fake_timothysmith@example.com',\n",
    "        'ip_address' : '59.157.144.1',\n",
    "        'billing_state': 'AZ',\n",
    "        'user_agent': 'Mozilla/5.0 (iPod; U; CPU iPhone OS 3_0 like Mac OS X; sid-ET) AppleWebKit/534.17.7 (KHTML, like Gecko) Version/4.0.5 Mobile/8B118 Safari/6534.17.7',\n",
    "        'billing_postal': '32931',\n",
    "        'phone_number': '(555)596 - 5579',\n",
    "        'billing_address': '65898 Amy Estate Fake St.'  \n",
    "    }\n",
    ")\n",
    "\n",
    "print('ML fraud prediction [0,1000]:', response['modelScores'][0]['scores'][MODEL_INSIGHTS])\n",
    "print('Activated rule:', response['ruleResults'][0]['ruleId'])\n",
    "print('Outcome:', response['ruleResults'][0]['outcomes'][0])"
   ]
  },
  {
   "cell_type": "markdown",
   "metadata": {},
   "source": [
    "## Deleting resources\n",
    "\n",
    "Deployed ML models incure cost per hour. It is important to undeploy them, if you don't need them. If the ML model is part of an active Detector, that detector needs to be deactivated first and then to undeploy the ML model. "
   ]
  },
  {
   "cell_type": "markdown",
   "metadata": {},
   "source": [
    "### Deleting Detector and Rules"
   ]
  },
  {
   "cell_type": "code",
   "execution_count": null,
   "metadata": {},
   "outputs": [],
   "source": [
    "detectors = fraud_detector_client.get_detectors()\n",
    "list_of_detectors = [detector['detectorId'] for detector in detectors['detectors']]\n",
    "\n",
    "\n",
    "if DETECTOR_ID in list_of_detectors:\n",
    "    # delete detector versions, rules and detector\n",
    "    response = fraud_detector_client.describe_detector(detectorId = DETECTOR_ID)\n",
    "\n",
    "    for detector_summary in response['detectorVersionSummaries']:\n",
    "        if detector_summary['status'] == 'ACTIVE':\n",
    "            fraud_detector_client.update_detector_version_status(\n",
    "                detectorId = DETECTOR_ID,\n",
    "                detectorVersionId = '1',\n",
    "                status = 'INACTIVE'\n",
    "            )\n",
    "            print('Deacivating detector', DETECTOR_ID)\n",
    "        result = fraud_detector_client.delete_detector_version(\n",
    "            detectorId = DETECTOR_ID,\n",
    "            detectorVersionId = detector_summary['detectorVersionId']\n",
    "        )\n",
    "\n",
    "    result = fraud_detector_client.get_rules( detectorId = DETECTOR_ID )\n",
    "    for rule in result['ruleDetails']:\n",
    "        response = fraud_detector_client.delete_rule(\n",
    "            rule={\n",
    "                'detectorId': rule['detectorId'],\n",
    "                'ruleId': rule['ruleId'],\n",
    "                'ruleVersion': rule['ruleVersion']\n",
    "            }\n",
    "        )\n",
    "        print('Deleting rule', rule)\n",
    "\n",
    "    fraud_detector_client.delete_detector(detectorId = DETECTOR_ID)\n",
    "    print('Deleting detector', DETECTOR_ID)\n",
    "else:\n",
    "    print('Detector', DETECTOR_ID, 'not available...')"
   ]
  },
  {
   "cell_type": "markdown",
   "metadata": {},
   "source": [
    "### Undeploying ML model\n",
    "ML models and model versions cannot be deleted."
   ]
  },
  {
   "cell_type": "code",
   "execution_count": null,
   "metadata": {},
   "outputs": [],
   "source": [
    "model_report = fraud_detector_client.describe_model_versions(\n",
    "        modelId = MODEL_ID,\n",
    "        modelType='ONLINE_FRAUD_INSIGHTS'\n",
    "    )\n",
    "\n",
    "if model_report['modelVersionDetails'][0]['status'] == 'ACTIVE':\n",
    "    fraud_detector_client.update_model_version_status (\n",
    "        modelId = MODEL_ID,\n",
    "        modelType = 'ONLINE_FRAUD_INSIGHTS',\n",
    "        modelVersionNumber = model_report['modelVersionDetails'][0]['modelVersionNumber'],\n",
    "        status = 'INACTIVE'\n",
    "    )\n",
    "    print('Undeployed model', MODEL_ID)\n",
    "else: print('Model', MODEL_ID, 'is INACTIVE...')"
   ]
  }
 ],
 "metadata": {
  "kernelspec": {
   "display_name": "conda_python3",
   "language": "python",
   "name": "conda_python3"
  },
  "language_info": {
   "codemirror_mode": {
    "name": "ipython",
    "version": 3
   },
   "file_extension": ".py",
   "mimetype": "text/x-python",
   "name": "python",
   "nbconvert_exporter": "python",
   "pygments_lexer": "ipython3",
   "version": "3.6.10"
  }
 },
 "nbformat": 4,
 "nbformat_minor": 4
}
